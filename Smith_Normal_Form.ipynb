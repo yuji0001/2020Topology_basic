{
 "cells": [
  {
   "cell_type": "markdown",
   "metadata": {},
   "source": [
    "Smith Normalization\n",
    "===\n",
    "This code make Smith Normale Form from an integer matrix."
   ]
  },
  {
   "cell_type": "code",
   "execution_count": 1,
   "metadata": {},
   "outputs": [],
   "source": [
    "import numpy as np\n",
    "\n"
   ]
  },
  {
   "cell_type": "code",
   "execution_count": 2,
   "metadata": {},
   "outputs": [],
   "source": [
    "# 整数行列上の基本行列\n",
    "def Eij(i,j,n):\n",
    "    E = np.eye(n)\n",
    "    E[i,i] = 0\n",
    "    E[j,j] = 0\n",
    "    E[i,j] = 1\n",
    "    E[j,i] = 1\n",
    "    return E\n",
    "\n",
    "def Ei(i,n):\n",
    "    E = np.eye(n)\n",
    "    E[i,i] = -1\n",
    "    return E\n",
    "\n",
    "def Ec(i,j,c,n):\n",
    "    E = np.eye(n)\n",
    "    E[i,j] = c\n",
    "    return E    "
   ]
  },
  {
   "cell_type": "code",
   "execution_count": 3,
   "metadata": {},
   "outputs": [],
   "source": [
    "# A[k:,k:]上の0以外の最小の絶対値をA[k,k]に移動する変換\n",
    "def moveMN(A,k):\n",
    "    tmp_A = A[k:,k:]\n",
    "    a = np.abs(tmp_A[tmp_A != 0]).min()\n",
    "    i = np.where(np.abs(tmp_A) == a)[0][0] + k\n",
    "    j = np.where(np.abs(tmp_A) == a)[1][0]+ k\n",
    "    P = Eij(k,j,A.shape[1])\n",
    "    invQ = Eij(i,k,A.shape[0])\n",
    "    B = invQ.dot(A).dot(P)\n",
    "    if B[k,k]<0:\n",
    "        Pi =Ei(k,A.shape[1])\n",
    "        B = B.dot(Pi)\n",
    "        P = P.dot(Pi)\n",
    "    return invQ.astype(int),B.astype(int),P.astype(int)\n",
    "\n"
   ]
  },
  {
   "cell_type": "code",
   "execution_count": 4,
   "metadata": {},
   "outputs": [],
   "source": [
    "#A[k,k]を使って，A[k+1:,k]を0に整える変換．(整いきれなかったら要素はA[k,k]より小さくなる)\n",
    "def rowR(A,k):\n",
    "    B = A.copy()\n",
    "    invQ = np.eye(A.shape[0])\n",
    "    P = np.eye(A.shape[1])\n",
    "    for i in range(k+1,A.shape[0]):\n",
    "        q = A[i,k]//A[k,k]\n",
    "        #残渣\n",
    "        r = A[i,k]%A[k,k]\n",
    "        invQi = Ec(i,k,-q,A.shape[0])\n",
    "        B = invQi.dot(B)\n",
    "        invQ = invQi.dot(invQ)\n",
    "    return invQ.astype(int),B.astype(int),P.astype(int)"
   ]
  },
  {
   "cell_type": "code",
   "execution_count": 5,
   "metadata": {},
   "outputs": [],
   "source": [
    "#A[k,k]を使って，A[k,k+1]を0に整える変換．(整いきれなかったら要素はA[k,k]より小さくなる)\n",
    "def colR(A,k):\n",
    "    B = A.copy()\n",
    "    invQ = np.eye(A.shape[0])\n",
    "    P = np.eye(A.shape[1])\n",
    "    for i in range(k+1,A.shape[1]):\n",
    "        q = A[k,i]//A[k,k]\n",
    "        #残渣\n",
    "        r = A[k,i]%A[k,k]\n",
    "        Pi = Ec(k,i,-q,A.shape[1])\n",
    "        B = B.dot(Pi)\n",
    "        P = P.dot(Pi)\n",
    "    return invQ.astype(int),B.astype(int),P.astype(int)"
   ]
  },
  {
   "cell_type": "code",
   "execution_count": 6,
   "metadata": {},
   "outputs": [],
   "source": [
    "# A[k+1:,k+1:]においてA[k,k]で割り切れない要素A[i,j]をA[k,k]の残差に変換する変換\n",
    "def remR(A,k):\n",
    "    invQ = np.eye(A.shape[0])\n",
    "    P = np.eye(A.shape[1])\n",
    "    #  Find i,j\n",
    "    i = np.where(A[k+1:,k+1:]%A[k,k] !=0)[0][0] +k+1\n",
    "    j = np.where(A[k+1:,k+1:]%A[k,k] !=0)[1][0] +k+1\n",
    "    q = A[i,j]//A[k,k]\n",
    "    r = A[i,j]%A[k,k]\n",
    "    invQi = Ec(i,k,q,A.shape[0])\n",
    "    Pi = Ec(k,j,-1,A.shape[1])\n",
    "    B = invQi.dot(A).dot(Pi)\n",
    "    P = P.dot(Pi)\n",
    "    invQ = invQi.dot(invQ)\n",
    "    return invQ.astype(int),B.astype(int),P.astype(int)"
   ]
  },
  {
   "cell_type": "code",
   "execution_count": null,
   "metadata": {},
   "outputs": [],
   "source": []
  },
  {
   "cell_type": "code",
   "execution_count": 7,
   "metadata": {},
   "outputs": [],
   "source": [
    "def Smith_Normalization(A):\n",
    "    invQ = np.eye(A.shape[0])\n",
    "    P = np.eye(A.shape[1])\n",
    "    A0 = A.copy()\n",
    "    # limit of optimization\n",
    "    N = 1000\n",
    "    for k in range(min(A0.shape)):\n",
    "        # If A0[k:,k:] is zero matrix, then stop calculation\n",
    "        if np.sum(np.abs(A0[k:,k:]))==0:\n",
    "            break\n",
    "        for i in range(N):\n",
    "            if i == N-1 : \n",
    "                print(\"Error: Time Out\")\n",
    "            # minimize A[k,k]\n",
    "            invQi,A1,Pi = moveMN(A0,k)\n",
    "            invQ = invQi.dot(invQ)\n",
    "            P = P.dot(Pi)\n",
    "            # make zero row A[k+1:,k]\n",
    "            invQi,A2,Pi = rowR(A1,k)\n",
    "            invQ = invQi.dot(invQ)\n",
    "            P = P.dot(Pi)\n",
    "            # if row A2[k+1:,k] is zero vector ?\n",
    "            if np.abs(A2[k+1:,k]).sum() ==0:\n",
    "                # make zero col A[k,k+1:]\n",
    "                invQi,A3,Pi = colR(A2,k)\n",
    "                invQ = invQi.dot(invQ)\n",
    "                P = P.dot(Pi)\n",
    "                # if col A3[k+1:,k] is zero vector ?\n",
    "                if np.abs(A3[k,k+1:]).sum() ==0:\n",
    "                    # A[k,k]|A[k+1:,k+1:]?\n",
    "                    if np.sum(A3[k+1:,k+1:]%A3[k,k]) == 0:                    \n",
    "                        A0 = A3.copy()            \n",
    "                        break;\n",
    "                    else:\n",
    "                        # reduce A[k+1:,k+1:]\n",
    "                        invQi,A0,Pi = remR(A3,k)\n",
    "                        invQ = invQi.dot(invQ)\n",
    "                        P = P.dot(Pi)\n",
    "                else:\n",
    "                    A0 = A3.copy()            \n",
    "            else:\n",
    "                A0 = A2.copy()\n",
    "\n",
    "    B = A0.copy().astype(int)\n",
    "    P = P.astype(int)\n",
    "    invQ = invQ.astype(int)\n",
    "    return invQ,B,P\n",
    "\n",
    "\n"
   ]
  },
  {
   "cell_type": "code",
   "execution_count": 8,
   "metadata": {
    "scrolled": true
   },
   "outputs": [
    {
     "data": {
      "text/plain": [
       "array([[7, 3, 2, 1],\n",
       "       [7, 6, 7, 7],\n",
       "       [4, 8, 2, 0]])"
      ]
     },
     "execution_count": 8,
     "metadata": {},
     "output_type": "execute_result"
    }
   ],
   "source": [
    "A = np.random.randint(0,10,(3,4))\n",
    "A"
   ]
  },
  {
   "cell_type": "markdown",
   "metadata": {},
   "source": [
    "# Function check"
   ]
  },
  {
   "cell_type": "code",
   "execution_count": 9,
   "metadata": {},
   "outputs": [
    {
     "data": {
      "text/plain": [
       "array([[1, 3, 2, 7],\n",
       "       [7, 6, 7, 7],\n",
       "       [0, 8, 2, 4]])"
      ]
     },
     "execution_count": 9,
     "metadata": {},
     "output_type": "execute_result"
    }
   ],
   "source": [
    "A1 = moveMN(A,0)[1]\n",
    "A1"
   ]
  },
  {
   "cell_type": "code",
   "execution_count": 10,
   "metadata": {},
   "outputs": [
    {
     "data": {
      "text/plain": [
       "array([[  1,   3,   2,   7],\n",
       "       [  0, -15,  -7, -42],\n",
       "       [  0,   8,   2,   4]])"
      ]
     },
     "execution_count": 10,
     "metadata": {},
     "output_type": "execute_result"
    }
   ],
   "source": [
    "A2 = rowR(A1,0)[1]\n",
    "A2"
   ]
  },
  {
   "cell_type": "code",
   "execution_count": 11,
   "metadata": {},
   "outputs": [
    {
     "data": {
      "text/plain": [
       "array([[  1,   0,   0,   0],\n",
       "       [  0, -15,  -7, -42],\n",
       "       [  0,   8,   2,   4]])"
      ]
     },
     "execution_count": 11,
     "metadata": {},
     "output_type": "execute_result"
    }
   ],
   "source": [
    "A3 = colR(A2,0)[1]\n",
    "A3"
   ]
  },
  {
   "cell_type": "code",
   "execution_count": 12,
   "metadata": {},
   "outputs": [
    {
     "data": {
      "text/plain": [
       "array([[2, 0, 0, 0],\n",
       "       [0, 2, 3, 4],\n",
       "       [0, 2, 2, 6]])"
      ]
     },
     "execution_count": 12,
     "metadata": {},
     "output_type": "execute_result"
    }
   ],
   "source": [
    "tmpA = np.array([[2,0,0,0],[0,2,3,4],[0,2,2,6]])\n",
    "tmpA"
   ]
  },
  {
   "cell_type": "code",
   "execution_count": 13,
   "metadata": {},
   "outputs": [
    {
     "data": {
      "text/plain": [
       "array([[ 2,  0, -2,  0],\n",
       "       [ 2,  2,  1,  4],\n",
       "       [ 0,  2,  2,  6]])"
      ]
     },
     "execution_count": 13,
     "metadata": {},
     "output_type": "execute_result"
    }
   ],
   "source": [
    "A4 = remR(tmpA,0)[1]\n",
    "A4"
   ]
  },
  {
   "cell_type": "markdown",
   "metadata": {},
   "source": [
    "## Main result"
   ]
  },
  {
   "cell_type": "code",
   "execution_count": 14,
   "metadata": {},
   "outputs": [
    {
     "name": "stdout",
     "output_type": "stream",
     "text": [
      "[[ 1  0  0]\n",
      " [-7  1  4]\n",
      " [14 -2 -7]]\n",
      "[[1 0 0 0]\n",
      " [0 1 0 0]\n",
      " [0 0 2 0]]\n",
      "[[   0    0   -6   13]\n",
      " [   0    0  -13   28]\n",
      " [   0    1   65 -138]\n",
      " [   1   -2  -49  101]]\n"
     ]
    }
   ],
   "source": [
    "invQ,B,P = Smith_Normalization(A)\n",
    "print(invQ)\n",
    "print(B)\n",
    "print(P)"
   ]
  },
  {
   "cell_type": "code",
   "execution_count": 15,
   "metadata": {},
   "outputs": [
    {
     "name": "stdout",
     "output_type": "stream",
     "text": [
      "[[1 0 0 0]\n",
      " [0 1 0 0]\n",
      " [0 0 2 0]]\n"
     ]
    }
   ],
   "source": [
    "print(invQ.dot(A).dot(P))"
   ]
  },
  {
   "cell_type": "code",
   "execution_count": 16,
   "metadata": {},
   "outputs": [
    {
     "name": "stdout",
     "output_type": "stream",
     "text": [
      "[[  7   3   2   1]\n",
      " [-26  17   1   0]\n",
      " [ 28 -13   0   0]\n",
      " [ 13  -6   0   0]]\n",
      "[[1 0 0 0]\n",
      " [0 1 0 0]\n",
      " [0 0 1 0]\n",
      " [0 0 0 1]]\n"
     ]
    }
   ],
   "source": [
    "invP = np.linalg.inv(P)\n",
    "# float to int\n",
    "invP = np.round(invP).astype(int)\n",
    "print(invP)\n",
    "print(P.dot(invP))"
   ]
  },
  {
   "cell_type": "code",
   "execution_count": 17,
   "metadata": {},
   "outputs": [
    {
     "name": "stdout",
     "output_type": "stream",
     "text": [
      "[[ 1  0  0]\n",
      " [ 7 -7 -4]\n",
      " [ 0  2  1]]\n",
      "[[1 0 0]\n",
      " [0 1 0]\n",
      " [0 0 1]]\n"
     ]
    }
   ],
   "source": [
    "Q = np.linalg.inv(invQ)\n",
    "# float to int\n",
    "Q = np.round(Q).astype(int)\n",
    "print(Q)\n",
    "print(Q.dot(invQ))"
   ]
  },
  {
   "cell_type": "code",
   "execution_count": null,
   "metadata": {},
   "outputs": [],
   "source": []
  }
 ],
 "metadata": {
  "kernelspec": {
   "display_name": "Python 3",
   "language": "python",
   "name": "python3"
  },
  "language_info": {
   "codemirror_mode": {
    "name": "ipython",
    "version": 3
   },
   "file_extension": ".py",
   "mimetype": "text/x-python",
   "name": "python",
   "nbconvert_exporter": "python",
   "pygments_lexer": "ipython3",
   "version": "3.7.4"
  }
 },
 "nbformat": 4,
 "nbformat_minor": 2
}
